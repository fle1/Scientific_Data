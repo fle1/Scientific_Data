{
    "cells": [
        {
            "cell_type": "markdown",
            "source": [
                "**Analysis of metabolic dynamics during drought stress in Arabidopsis plants**\r\n",
                "\r\n",
                "**DNB Analysis script**"
            ],
            "metadata": {}
        },
        {
            "cell_type": "markdown",
            "source": [
                "First, load the libraries:"
            ],
            "metadata": {}
        },
        {
            "cell_type": "code",
            "execution_count": 70,
            "source": [
                "import pandas as pd\r\n",
                "import numpy as np\r\n",
                "from scipy import stats\r\n",
                "from scipy.stats import pearsonr\r\n",
                "import statistics\r\n",
                "from sklearn import preprocessing\r\n",
                "import scipy.cluster.hierarchy as spc\r\n",
                "import math\r\n",
                "import matplotlib.pyplot as plt"
            ],
            "outputs": [],
            "metadata": {}
        },
        {
            "cell_type": "markdown",
            "source": [
                "*indices_for_clusters* is a function created for DNB Analysis.\r\n",
                "This function calculates the SDin, PCCin and PCCout of the group of molecules than can be DNBs. "
            ],
            "metadata": {}
        },
        {
            "cell_type": "code",
            "execution_count": 77,
            "source": [
                "def indices_for_clusters(cluster, currDNB, control, case, condit, genotype):\r\n",
                "    \"\"\"\r\n",
                "    cluster: cluster number of the potential DNB (integer)\r\n",
                "    currDNB: list of metabolites that are a potential DNB (list of strings)\r\n",
                "    control: dataframe of control metabolomic data (pandas dataframe)\r\n",
                "    case: dataframe of case metabolomic data (pandas dataframe)\r\n",
                "    condit: condition under study (string)\r\n",
                "    genotype: genotype under study (string)\r\n",
                "    \"\"\"\r\n",
                "    res = []\r\n",
                "    newcurr = case.loc[:,currDNB]\r\n",
                "    controlcurr = control.loc[:,currDNB]\r\n",
                "\r\n",
                "    if len(currDNB) > 1: #clusters with only one member (dominant group of molecules has only one member) are not allowed\r\n",
                "        \r\n",
                "        #Calculate SDin: standard deviation intra-cluster (dominant group of molecules)\r\n",
                "        SD_clust = 0\r\n",
                "        sd_n = 0\r\n",
                "        for A2 in currDNB:\r\n",
                "            SDt = statistics.stdev(newcurr.loc[:, A2])\r\n",
                "            SD0 = statistics.stdev(controlcurr.loc[:, A2])\r\n",
                "            SDnextt = abs(math.log10(SDt/SD0)) # normalize the SDt against t0\r\n",
                "            sd_neg = math.log10(SDt/SD0) # we also save the SD without absolute value \r\n",
                "            SD_clust = SD_clust + SDnextt\r\n",
                "            sd_n = sd_n + sd_neg\r\n",
                "\r\n",
                "        SDin = SD_clust / len(currDNB)\r\n",
                "        Sd = sd_n / len(currDNB)\r\n",
                "\r\n",
                "        #Calculate PCCin: pearson correlation coefficient intra-cluster (dominant group of molecules)\r\n",
                "        SumIntraCorr = 0\r\n",
                "        yet = []\r\n",
                "        for A3 in currDNB:\r\n",
                "            for B1 in currDNB:\r\n",
                "                pair = A3+\"-\"+B1\r\n",
                "                pair_inv = B1+\"-\"+A3           \r\n",
                "                if A3 != B1 and pair not in yet and pair_inv not in yet:\r\n",
                "                    yet.append(pair)\r\n",
                "                    yet.append(pair_inv)\r\n",
                "                    first = newcurr.loc[:, A3]\r\n",
                "                    second = newcurr.loc[:, B1]\r\n",
                "                    pearsoncorr, _ = pearsonr(first, second)  \r\n",
                "                    SumIntraCorr = SumIntraCorr + abs(pearsoncorr)\r\n",
                "        PCCintra = SumIntraCorr/(len(currDNB)*(len(currDNB)-1))\r\n",
                "\r\n",
                "        #Calculate PCCout: pearson correlation coefficient inter-cluster (dominant group of molecules with other molecules)\r\n",
                "        interDNB = list(case.columns) #first, extract all metabolite names\r\n",
                "        for j in interDNB:\r\n",
                "            if j in currDNB: #if the metabolite is in the current set of metabolites under study (DNB), remove it\r\n",
                "                interDNB.remove(j)\r\n",
                "        interclust = case.loc[:,interDNB]\r\n",
                "        SumInterCorr = 0\r\n",
                "        yet = []\r\n",
                "        for A4 in currDNB:\r\n",
                "            for B2 in interDNB:\r\n",
                "                pair = A4+\"-\"+B2\r\n",
                "                pair_inv = B2+\"-\"+A4           \r\n",
                "                if A4 != B2 and pair not in yet and pair_inv not in yet:\r\n",
                "                    yet.append(pair)\r\n",
                "                    yet.append(pair_inv)\r\n",
                "                    first = newcurr.loc[:, A4]\r\n",
                "                    second = interclust.loc[:, B2]\r\n",
                "                    pearsoncorr, _ = pearsonr(first, second)\r\n",
                "                    SumInterCorr = SumInterCorr + abs(pearsoncorr)\r\n",
                "        PCCinter = SumInterCorr / (len(currDNB)*((len(currDNB)+len(interDNB))-len(currDNB)))\r\n",
                "\r\n",
                "        CI = (SDin * PCCintra) / PCCinter\r\n",
                "\r\n",
                "        res.append([genotype, condit, cluster, currDNB, SDin, PCCintra, PCCinter, CI, Sd])\r\n",
                "\r\n",
                "    else:\r\n",
                "        res.append([genotype, condit, cluster, currDNB, 0, 0, 0, 0, 0]) \r\n",
                "\r\n",
                "    return(res)"
            ],
            "outputs": [],
            "metadata": {}
        },
        {
            "cell_type": "markdown",
            "source": [
                "After defining the function, the dataset has to be loaded. \r\n",
                "In this case, the DNB analysis takes as input the normalized metabolite abundances (Supplementary Table 2) as input."
            ],
            "metadata": {}
        },
        {
            "cell_type": "code",
            "execution_count": 73,
            "source": [
                "datasetname = \"Supplementary_table2.csv\"  #Name of the normalized dataset file and extension (.csv here) \r\n",
                "dataset = pd.read_csv(datasetname, sep = \",\")"
            ],
            "outputs": [],
            "metadata": {}
        },
        {
            "cell_type": "markdown",
            "source": [
                "REMEMBER: This is an example for the DNB analysis of the BRL3ox genotype in roots. \r\n",
                "\r\n",
                "Manually, select the tissue and genotype for the DNB analysis as follows:"
            ],
            "metadata": {}
        },
        {
            "cell_type": "code",
            "execution_count": 22,
            "source": [
                "tissue = dataset.loc[(dataset[\"Tissue\"] == \"root\")] #EDIT: tissue under study (\"root\" or \"shoot\" here)\r\n",
                "genotype = \"35S:BRL3-GFP\" #EDIT: ID of the genotype under study (\"Col-0WT\", \"35S:BRL3-GFP\" or \"bri1-301bak1brl1brl3\" here)"
            ],
            "outputs": [],
            "metadata": {}
        },
        {
            "cell_type": "markdown",
            "source": [
                "Separate the metadata and metabolites to keep only the metadata that is need for the DNB analysis. "
            ],
            "metadata": {}
        },
        {
            "cell_type": "code",
            "execution_count": null,
            "source": [
                "metadata = tissue.loc[:,[\"Tissue\", \"Genotype\", \"Condition\"]] \r\n",
                "metabolites = tissue.iloc[:,6:]"
            ],
            "outputs": [],
            "metadata": {}
        },
        {
            "cell_type": "code",
            "execution_count": null,
            "source": [
                "metadata.head()"
            ],
            "outputs": [],
            "metadata": {}
        },
        {
            "cell_type": "code",
            "execution_count": null,
            "source": [
                "metabolites.head()"
            ],
            "outputs": [],
            "metadata": {}
        },
        {
            "cell_type": "markdown",
            "source": [
                "Finally, merge metadata and metabolites in one dataframe to start the analysis. "
            ],
            "metadata": {}
        },
        {
            "cell_type": "code",
            "execution_count": null,
            "source": [
                "tissue = pd.concat([metadata, metabolites], axis = 1)\r\n",
                "tissue.head()"
            ],
            "outputs": [],
            "metadata": {}
        },
        {
            "cell_type": "markdown",
            "source": [
                "**DNB analysis**"
            ],
            "metadata": {}
        },
        {
            "cell_type": "markdown",
            "source": [
                "First, To determine the optimal number of clusters: \r\n",
                "\r\n",
                "    1) Calculate the best CIs for 2 to 15 clusters in a for loop. \r\n",
                "    \r\n",
                "    2) Plot the CI value obained by each cluster and select the number of clusters which obtain the highest CI."
            ],
            "metadata": {}
        },
        {
            "cell_type": "code",
            "execution_count": 78,
            "source": [
                "cluster = []\r\n",
                "CIs = []\r\n",
                "genot = tissue.loc[(tissue[\"Genotype\"] == genotype)]\r\n",
                "\r\n",
                "for numclust in range(2,16):\r\n",
                "    control = genot.loc[(genot[\"Condition\"] == \"0\")] #control is the sub-dataset of samples at time 0\r\n",
                "    case = genot.loc[(genot[\"Condition\"].str.contains(\"D\"))] #case is the sub-dataset of samples under drought stress (D)\r\n",
                "    metab = list(control.columns)\r\n",
                "    \r\n",
                "    df = genot.loc[(genot[\"Condition\"].str.contains(\"D\") | (genot[\"Condition\"] == \"0\"))]\r\n",
                "            \r\n",
                "    #calculate distances and clusters based on correlation\r\n",
                "    corr = df.iloc[:,3:].corr().abs().values #avoid string data columns with [:,3:]\r\n",
                "    pdist = spc.distance.pdist(corr)\r\n",
                "    linkage = spc.linkage(pdist, \"complete\") # complete method for hierarchical clustering \r\n",
                "    hcModel = spc.fcluster(linkage, round(numclust), \"maxclust\") # select the maximum number of cluster allowed\r\n",
                "    labels = [df.iloc[:,3:].columns.tolist()[i] for i in list((np.argsort(hcModel)))]\r\n",
                "    cluster = []\r\n",
                "    # associate metabolites to clusters\r\n",
                "    for i in range(len(hcModel)):\r\n",
                "        cluster.append([genotype, hcModel[i], labels[i]])\r\n",
                "    clusters = pd.DataFrame(cluster, columns=[\"Genotype\", \"Cluster\", \"Metabolite\"])\r\n",
                "\r\n",
                "    #calculate the signals for each cluster and for each time-point with the *indices_for_clusters* function\r\n",
                "    param=[]\r\n",
                "    n_clusters = list(set(clusters.loc[:,\"Cluster\"]))\r\n",
                "    for c in range(1, max(n_clusters)+1): #for each cluster\r\n",
                "        currDNB = list(clusters.loc[clusters[\"Cluster\"] == c].iloc[:,2])\r\n",
                "        for period in range(1,7): #for each time point\r\n",
                "            p = str(period)+\"D\"\r\n",
                "            data_period = genot.loc[(genot[\"Condition\"].str.contains(p))].iloc[:,3:]\r\n",
                "            param.append(indices_for_clusters(c, currDNB, control, data_period, p, genotype))\r\n",
                "\r\n",
                "\r\n",
                "    #save all in a single dataframe\r\n",
                "    drought = pd.DataFrame(param[0], columns=[\"genotype\", \"period\", \"cluster\", \"DNB\", \"SD\", \"PCCintra\", \"PCCinter\", \"CI\", \"SDnonabs\"]) \r\n",
                "    for j in range(1,len(param)):\r\n",
                "            d_2 = pd.DataFrame(param[j], columns=[\"genotype\", \"period\", \"cluster\", \"DNB\", \"SD\", \"PCCintra\", \"PCCinter\", \"CI\", \"SDnonabs\"])\r\n",
                "            drought = pd.concat([drought, d_2], ignore_index=True)\r\n",
                "\r\n",
                "    #sort the potential DNBs by their CI and select the time-point associated to the highest CI for each cluster as a potential critical point.\r\n",
                "    extracted = pd.DataFrame(columns = [\"genotype\", \"period\", \"cluster\", \"DNB\", \"SD\", \"PCCintra\", \"PCCinter\", \"CI\", \"SDnonabs\"])\r\n",
                "    for clus in range(1, max(list(set(drought.loc[:,\"cluster\"])))+1):\r\n",
                "        subsub = drought.loc[drought[\"cluster\"] == clus]\r\n",
                "        pot_subsub = subsub.loc[subsub[\"CI\"] == max(list(subsub.loc[:,\"CI\"]))]\r\n",
                "        extracted = pd.concat([extracted, pot_subsub])\r\n",
                "\r\n",
                "    #sort the potentials DNBs and potential critical point (time-point selected before) by the CI value again to plot\r\n",
                "    extractedsort = extracted.sort_values(by=\"CI\", ascending=False)\r\n",
                "    CIs.append([numclust, extractedsort.iloc[0,7]])\r\n"
            ],
            "outputs": [],
            "metadata": {}
        },
        {
            "cell_type": "markdown",
            "source": [
                "Plot the CIs obtained by each number of cluster tested and select the first value of number of cluster which has the highest value for CI. "
            ],
            "metadata": {}
        },
        {
            "cell_type": "code",
            "execution_count": 79,
            "source": [
                "pd.DataFrame(CIs, columns = [\"Number of clusters\", \"CImax\"]).plot(x = \"Number of clusters\", y = \"CImax\")"
            ],
            "outputs": [
                {
                    "output_type": "execute_result",
                    "data": {
                        "text/plain": [
                            "<AxesSubplot:xlabel='Number of clusters'>"
                        ]
                    },
                    "metadata": {},
                    "execution_count": 79
                },
                {
                    "output_type": "display_data",
                    "data": {
                        "text/plain": [
                            "<Figure size 432x288 with 1 Axes>"
                        ],
                        "image/png": "[encoded data removed]"
                    },
                    "metadata": {
                        "needs_background": "light"
                    }
                }
            ],
            "metadata": {}
        },
        {
            "cell_type": "markdown",
            "source": [
                "Second, with the selected number of cluster, perform the clustering by the correlation values in time-point (t) and time-point 0 as before.\r\n",
                "\r\n",
                "REMEMBER: In the following code chunk, *numclust* has to be modified to include the number of the cluster which has obtain the best CI (see the plot generated before)."
            ],
            "metadata": {}
        },
        {
            "cell_type": "code",
            "execution_count": 80,
            "source": [
                "cluster = []\r\n",
                "numclust = 14 #EDIT: insert the number of cluster after plotting\r\n",
                "\r\n",
                "genot = tissue.loc[(tissue[\"Genotype\"] == genotype)]\r\n",
                "control = genot.loc[(genot[\"Condition\"] == \"0\")].iloc[:,3:]\r\n",
                "case = genot.loc[(genot[\"Condition\"].str.contains(\"D\"))]\r\n",
                "metab = list(control.columns)\r\n"
            ],
            "outputs": [],
            "metadata": {}
        },
        {
            "cell_type": "code",
            "execution_count": 81,
            "source": [
                "#calculate distances and clusters based on correlation\r\n",
                "corr = df.iloc[:,3:].corr().abs().values \r\n",
                "pdist = spc.distance.pdist(corr)\r\n",
                "linkage = spc.linkage(pdist, \"complete\")\r\n",
                "hcModel = spc.fcluster(linkage, numclust, \"maxclust\")\r\n",
                "labels = [df.iloc[:,3:].columns.tolist()[i] for i in list((np.argsort(hcModel)))]\r\n",
                "\r\n",
                "# associate metabolites to clusters\r\n",
                "for i in range(len(hcModel)):\r\n",
                "    cluster.append([numclust, hcModel[i], labels[i]])\r\n",
                "clusters = pd.DataFrame(cluster, columns=[\"Genotype\", \"Cluster\", \"Metabolite\"])"
            ],
            "outputs": [],
            "metadata": {}
        },
        {
            "cell_type": "code",
            "execution_count": null,
            "source": [
                "clusters.head()"
            ],
            "outputs": [],
            "metadata": {}
        },
        {
            "cell_type": "markdown",
            "source": [
                "Third, for each cluster and for each time-point, calculate SDin, PCCin, PCCout and CI with the function \"indices_for_clusters\"."
            ],
            "metadata": {}
        },
        {
            "cell_type": "code",
            "execution_count": 83,
            "source": [
                "param=[]\r\n",
                "n_clusters = list(set(clusters.loc[:,\"Cluster\"]))\r\n",
                "for c in range(1, max(n_clusters)+1):\r\n",
                "    currDNB = list(clusters.loc[clusters[\"Cluster\"] == c].iloc[:,2])\r\n",
                "    for period in range(1,7):\r\n",
                "        p = str(period)+\"D\"\r\n",
                "        data_period = genot.loc[(genot[\"Condition\"].str.contains(p))].iloc[:,3:]\r\n",
                "        param.append(indices_for_clusters(c, currDNB, control, data_period, p, genotype))\r\n",
                "\r\n",
                "drought = pd.DataFrame(param[0], columns=[\"genotype\", \"period\", \"cluster\", \"DNB\", \"SDin\", \"PCCintra\", \"PCCinter\", \"CI\", \"SDnonabs\"])\r\n",
                "for j in range(1,len(param)):\r\n",
                "        d_2 = pd.DataFrame(param[j], columns=[\"genotype\", \"period\", \"cluster\", \"DNB\", \"SDin\", \"PCCintra\", \"PCCinter\", \"CI\", \"SDnonabs\"])\r\n",
                "        drought = pd.concat([drought, d_2], ignore_index=True)"
            ],
            "outputs": [],
            "metadata": {}
        },
        {
            "cell_type": "markdown",
            "source": [
                "Save in a csv file the pandas dataframe with the results for all the clusters.\r\n",
                "\r\n",
                "REMEMBER: Edit the file name depending the tissue and genotype under study."
            ],
            "metadata": {}
        },
        {
            "cell_type": "code",
            "execution_count": null,
            "source": [
                "drought.to_csv(\"Root\"+genotype+\"Results.csv\", index=False)"
            ],
            "outputs": [],
            "metadata": {}
        },
        {
            "cell_type": "markdown",
            "source": [
                "Forth, time-points of each cluster that have the highest CI value are potential critical point."
            ],
            "metadata": {}
        },
        {
            "cell_type": "code",
            "execution_count": null,
            "source": [
                "extracted = pd.DataFrame(columns = [\"genotype\", \"period\", \"cluster\", \"DNB\", \"SDin\", \"PCCintra\", \"PCCinter\", \"CI\", \"SDnonabs\"])\r\n",
                "for clus in range(1, max(list(set(drought.loc[:,\"cluster\"])))+1):\r\n",
                "    subsub = drought.loc[drought[\"cluster\"] == clus]\r\n",
                "    pot_subsub = subsub.loc[subsub[\"CI\"] == max(list(subsub.loc[:,\"CI\"]))]\r\n",
                "    extracted = pd.concat([extracted, pot_subsub])\r\n",
                "\r\n",
                "extracted.sort_values(by=\"CI\", ascending=False)"
            ],
            "outputs": [],
            "metadata": {}
        },
        {
            "cell_type": "markdown",
            "source": [
                "Fifth, keep as the final DNB the cluster that show the highest value of CI. "
            ],
            "metadata": {}
        },
        {
            "cell_type": "code",
            "execution_count": null,
            "source": [
                "sort = extracted.sort_values(by=\"CI\", ascending=False)\r\n",
                "final = pd.DataFrame(sort.iloc[0, :])\r\n",
                "\r\n",
                "sub_cluster = drought.loc[(drought[\"cluster\"] == int(final.iloc[2,:]))]\r\n",
                "\r\n",
                "print(\"CIs are: \", list(sub_cluster.loc[:,\"CI\"]))\r\n",
                "print(\"SDins are: \", list(sub_cluster.loc[:,\"SDin\"]))\r\n",
                "print(\"PCCintras are: \", list(sub_cluster.loc[:,\"PCCintra\"]))\r\n",
                "print(\"PCCinters are: \", list(sub_cluster.loc[:,\"PCCinter\"]))"
            ],
            "outputs": [],
            "metadata": {}
        },
        {
            "cell_type": "markdown",
            "source": [
                "Finally, create the dot plots for SDs, PCCs and CI of the DNB in all time-points. "
            ],
            "metadata": {}
        },
        {
            "cell_type": "code",
            "execution_count": null,
            "source": [
                "sub_cluster.loc[:,[\"period\", \"CI\"]].plot(x=\"period\", y=\"CI\")\r\n",
                "#plt.savefig((str(genotype)+\"_CI.png\"))\r\n",
                "\r\n",
                "sub_cluster.loc[:,[\"period\", \"SDin\"]].plot(x=\"period\", y=\"SDin\")\r\n",
                "#plt.savefig((str(genotype)+\"_SDin.png\"))\r\n",
                "\r\n",
                "sub_cluster.loc[:,[\"period\", \"PCCintra\"]].plot(x=\"period\", y=\"PCCintra\")\r\n",
                "#plt.savefig((str(genotype)+\"_PCCintra.png\"))\r\n",
                "\r\n",
                "sub_cluster.loc[:,[\"period\", \"PCCinter\"]].plot(x=\"period\", y=\"PCCinter\")\r\n",
                "#plt.savefig((str(genotype)+\"_PCCinter.png\"))"
            ],
            "outputs": [],
            "metadata": {}
        },
        {
            "cell_type": "markdown",
            "source": [
                "Save the CIs of all genotypes for root and shoot tissues separatedly in a csv file."
            ],
            "metadata": {}
        },
        {
            "cell_type": "code",
            "execution_count": null,
            "source": [
                "dfCIs = {'Genotype': list(sub_cluster.loc[:,\"genotype\"]), 'DNB': list(sub_cluster.loc[:,\"DNB\"]), 'CI': list(sub_cluster.loc[:,\"CI\"])}\r\n",
                "dfCIs = pd.DataFrame.from_dict(dfCIs)"
            ],
            "outputs": [],
            "metadata": {}
        },
        {
            "cell_type": "code",
            "execution_count": 85,
            "source": [
                "dfCIs.to_csv(\"Root\"+genotype+\"DNBCIs.csv\", index=False) #EDIT: tissue under study (\"root\" or \"shoot\" here)"
            ],
            "outputs": [],
            "metadata": {}
        },
        {
            "cell_type": "markdown",
            "source": [
                "If you prefer to append the CIs of other genotypes and tissues to an existing csv file, run the following code only for the first tissue and genotype to create the file."
            ],
            "metadata": {}
        },
        {
            "cell_type": "code",
            "execution_count": null,
            "source": [
                "from csv import writer\r\n",
                "\r\n",
                "dfCIs2 = {'Genotype': list(sub_cluster.loc[:,\"genotype\"]), 'DNB': list(sub_cluster.loc[:,\"DNB\"]), 'CI': list(sub_cluster.loc[:,\"CI\"])}\r\n",
                "dfCIs2 = pd.DataFrame.from_dict(dfCIs2)\r\n",
                "dfCIs2.to_csv(\"AllDNBCIs.csv\", index=False) #EDIT: tissue under study (\"root\" or \"shoot\" here)"
            ],
            "outputs": [],
            "metadata": {}
        },
        {
            "cell_type": "markdown",
            "source": [
                "Then, run the following code for aapend the CIs for the rest genotypes and tissues. "
            ],
            "metadata": {}
        },
        {
            "cell_type": "code",
            "execution_count": 64,
            "source": [
                "with open(\"RootDNBCIs.csv\", 'a+', newline='') as write_obj:\r\n",
                "        # Create a writer object from csv module\r\n",
                "        csv_writer = writer(write_obj)\r\n",
                "        # Add contents of list as last row in the csv file\r\n",
                "        for r in range(dfCIs2.shape[0]):\r\n",
                "            csv_writer.writerow(dfCIs2.iloc[r,:])\r\n",
                "        "
            ],
            "outputs": [],
            "metadata": {}
        }
    ],
    "metadata": {
        "orig_nbformat": 4,
        "language_info": {
            "name": "python",
            "version": "3.9.5",
            "mimetype": "text/x-python",
            "codemirror_mode": {
                "name": "ipython",
                "version": 3
            },
            "pygments_lexer": "ipython3",
            "nbconvert_exporter": "python",
            "file_extension": ".py"
        },
        "kernelspec": {
            "name": "python3",
            "display_name": "Python 3.9.5 64-bit"
        },
        "interpreter": {
            "hash": "e700c37fc2818c72befe906bf89433f7f8b48118d9a02983522d2a6787061fe9"
        }
    },
    "nbformat": 4,
    "nbformat_minor": 2
}